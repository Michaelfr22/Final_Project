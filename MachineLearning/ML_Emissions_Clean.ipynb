{
 "cells": [
  {
   "cell_type": "code",
   "execution_count": 51,
   "id": "6b6831a9",
   "metadata": {},
   "outputs": [],
   "source": [
    "#Importing Dependencies\n",
    "%matplotlib inline\n",
    "import pandas as pd\n",
    "import numpy as np\n",
    "import tensorflow as tf\n",
    "import matplotlib.pyplot as plt\n",
    "import plotly.express as px\n",
    "import sklearn as skl\n",
    "from sklearn.model_selection import train_test_split\n",
    "from sklearn.ensemble import RandomForestRegressor, RandomForestClassifier\n",
    "from sklearn.metrics import accuracy_score\n",
    "from sklearn.preprocessing import StandardScaler, MinMaxScaler\n",
    "from sklearn.pipeline import Pipeline\n",
    "from sklearn import preprocessing\n",
    "from sklearn import utils\n",
    "from functools import reduce\n",
    "from sklearn.cluster import KMeans\n",
    "import psycopg2\n",
    "from sqlalchemy import create_engine\n",
    "from config import DB_HOST, DB_USER, DB_PASS, DB_PORT"
   ]
  },
  {
   "cell_type": "code",
   "execution_count": 52,
   "id": "0f516b50",
   "metadata": {},
   "outputs": [],
   "source": [
    "#Creating engine to access online databse\n",
    "engine = create_engine(f'postgresql://{DB_USER}:{DB_PASS}@{DB_HOST}:{DB_PORT}/us_emissions_db')"
   ]
  },
  {
   "cell_type": "code",
   "execution_count": 53,
   "id": "6c5b7367",
   "metadata": {},
   "outputs": [],
   "source": [
    "#reading merged table and year averages table\n",
    "merged_table = pd.read_sql_table('gdp_pop_sector_emissions', con=engine)\n",
    "year_avg = pd.read_sql_table('year_averages', con=engine)\n",
    "year_avg.columns = ['year', 'avgpop', 'avggdp', 'avgghg']"
   ]
  },
  {
   "cell_type": "code",
   "execution_count": 54,
   "id": "a0ed8ca6",
   "metadata": {},
   "outputs": [
    {
     "data": {
      "text/html": [
       "<div>\n",
       "<style scoped>\n",
       "    .dataframe tbody tr th:only-of-type {\n",
       "        vertical-align: middle;\n",
       "    }\n",
       "\n",
       "    .dataframe tbody tr th {\n",
       "        vertical-align: top;\n",
       "    }\n",
       "\n",
       "    .dataframe thead th {\n",
       "        text-align: right;\n",
       "    }\n",
       "</style>\n",
       "<table border=\"1\" class=\"dataframe\">\n",
       "  <thead>\n",
       "    <tr style=\"text-align: right;\">\n",
       "      <th></th>\n",
       "      <th>Country</th>\n",
       "      <th>State</th>\n",
       "      <th>Year</th>\n",
       "      <th>GDP</th>\n",
       "      <th>Population</th>\n",
       "      <th>Sector</th>\n",
       "      <th>allghg</th>\n",
       "      <th>CH4</th>\n",
       "      <th>CO2</th>\n",
       "      <th>N2O</th>\n",
       "      <th>F-Gas</th>\n",
       "    </tr>\n",
       "  </thead>\n",
       "  <tbody>\n",
       "    <tr>\n",
       "      <th>0</th>\n",
       "      <td>US</td>\n",
       "      <td>AL</td>\n",
       "      <td>1997</td>\n",
       "      <td>3.724787e+10</td>\n",
       "      <td>4367935</td>\n",
       "      <td>Agriculture</td>\n",
       "      <td>6.889241</td>\n",
       "      <td>3.392917</td>\n",
       "      <td>0.016045</td>\n",
       "      <td>4.028508</td>\n",
       "      <td>1.128290</td>\n",
       "    </tr>\n",
       "    <tr>\n",
       "      <th>1</th>\n",
       "      <td>US</td>\n",
       "      <td>AL</td>\n",
       "      <td>1998</td>\n",
       "      <td>3.936806e+10</td>\n",
       "      <td>4404701</td>\n",
       "      <td>Agriculture</td>\n",
       "      <td>6.954451</td>\n",
       "      <td>3.137611</td>\n",
       "      <td>0.016269</td>\n",
       "      <td>3.751630</td>\n",
       "      <td>1.290703</td>\n",
       "    </tr>\n",
       "    <tr>\n",
       "      <th>2</th>\n",
       "      <td>US</td>\n",
       "      <td>AL</td>\n",
       "      <td>1999</td>\n",
       "      <td>4.151366e+10</td>\n",
       "      <td>4430141</td>\n",
       "      <td>Agriculture</td>\n",
       "      <td>6.560038</td>\n",
       "      <td>3.074048</td>\n",
       "      <td>0.013043</td>\n",
       "      <td>3.880403</td>\n",
       "      <td>1.376542</td>\n",
       "    </tr>\n",
       "    <tr>\n",
       "      <th>3</th>\n",
       "      <td>US</td>\n",
       "      <td>AL</td>\n",
       "      <td>2000</td>\n",
       "      <td>4.258337e+10</td>\n",
       "      <td>4452173</td>\n",
       "      <td>Agriculture</td>\n",
       "      <td>6.298967</td>\n",
       "      <td>2.959365</td>\n",
       "      <td>0.002420</td>\n",
       "      <td>3.600673</td>\n",
       "      <td>1.521127</td>\n",
       "    </tr>\n",
       "    <tr>\n",
       "      <th>4</th>\n",
       "      <td>US</td>\n",
       "      <td>AL</td>\n",
       "      <td>2001</td>\n",
       "      <td>4.334858e+10</td>\n",
       "      <td>4467634</td>\n",
       "      <td>Agriculture</td>\n",
       "      <td>6.374233</td>\n",
       "      <td>2.899730</td>\n",
       "      <td>0.007422</td>\n",
       "      <td>3.399237</td>\n",
       "      <td>1.600098</td>\n",
       "    </tr>\n",
       "  </tbody>\n",
       "</table>\n",
       "</div>"
      ],
      "text/plain": [
       "  Country State  Year           GDP  Population       Sector    allghg  \\\n",
       "0      US    AL  1997  3.724787e+10     4367935  Agriculture  6.889241   \n",
       "1      US    AL  1998  3.936806e+10     4404701  Agriculture  6.954451   \n",
       "2      US    AL  1999  4.151366e+10     4430141  Agriculture  6.560038   \n",
       "3      US    AL  2000  4.258337e+10     4452173  Agriculture  6.298967   \n",
       "4      US    AL  2001  4.334858e+10     4467634  Agriculture  6.374233   \n",
       "\n",
       "        CH4       CO2       N2O     F-Gas  \n",
       "0  3.392917  0.016045  4.028508  1.128290  \n",
       "1  3.137611  0.016269  3.751630  1.290703  \n",
       "2  3.074048  0.013043  3.880403  1.376542  \n",
       "3  2.959365  0.002420  3.600673  1.521127  \n",
       "4  2.899730  0.007422  3.399237  1.600098  "
      ]
     },
     "metadata": {},
     "output_type": "display_data"
    },
    {
     "data": {
      "text/html": [
       "<div>\n",
       "<style scoped>\n",
       "    .dataframe tbody tr th:only-of-type {\n",
       "        vertical-align: middle;\n",
       "    }\n",
       "\n",
       "    .dataframe tbody tr th {\n",
       "        vertical-align: top;\n",
       "    }\n",
       "\n",
       "    .dataframe thead th {\n",
       "        text-align: right;\n",
       "    }\n",
       "</style>\n",
       "<table border=\"1\" class=\"dataframe\">\n",
       "  <thead>\n",
       "    <tr style=\"text-align: right;\">\n",
       "      <th></th>\n",
       "      <th>year</th>\n",
       "      <th>avgpop</th>\n",
       "      <th>avggdp</th>\n",
       "      <th>avgghg</th>\n",
       "    </tr>\n",
       "  </thead>\n",
       "  <tbody>\n",
       "    <tr>\n",
       "      <th>0</th>\n",
       "      <td>1997</td>\n",
       "      <td>5.346018e+06</td>\n",
       "      <td>6.336021e+10</td>\n",
       "      <td>19.723300</td>\n",
       "    </tr>\n",
       "    <tr>\n",
       "      <th>1</th>\n",
       "      <td>1998</td>\n",
       "      <td>5.408904e+06</td>\n",
       "      <td>6.529091e+10</td>\n",
       "      <td>19.659627</td>\n",
       "    </tr>\n",
       "    <tr>\n",
       "      <th>2</th>\n",
       "      <td>1999</td>\n",
       "      <td>5.471376e+06</td>\n",
       "      <td>6.939920e+10</td>\n",
       "      <td>19.800945</td>\n",
       "    </tr>\n",
       "    <tr>\n",
       "      <th>3</th>\n",
       "      <td>2000</td>\n",
       "      <td>5.532596e+06</td>\n",
       "      <td>7.215153e+10</td>\n",
       "      <td>20.297083</td>\n",
       "    </tr>\n",
       "    <tr>\n",
       "      <th>4</th>\n",
       "      <td>2001</td>\n",
       "      <td>5.587627e+06</td>\n",
       "      <td>7.477159e+10</td>\n",
       "      <td>19.961042</td>\n",
       "    </tr>\n",
       "  </tbody>\n",
       "</table>\n",
       "</div>"
      ],
      "text/plain": [
       "   year        avgpop        avggdp     avgghg\n",
       "0  1997  5.346018e+06  6.336021e+10  19.723300\n",
       "1  1998  5.408904e+06  6.529091e+10  19.659627\n",
       "2  1999  5.471376e+06  6.939920e+10  19.800945\n",
       "3  2000  5.532596e+06  7.215153e+10  20.297083\n",
       "4  2001  5.587627e+06  7.477159e+10  19.961042"
      ]
     },
     "metadata": {},
     "output_type": "display_data"
    }
   ],
   "source": [
    "#displaying merged table and year table\n",
    "display(merged_table.head())\n",
    "display(year_avg.head())"
   ]
  },
  {
   "cell_type": "markdown",
   "id": "af576725",
   "metadata": {},
   "source": [
    "# Random Forest Regressor Model"
   ]
  },
  {
   "cell_type": "code",
   "execution_count": 55,
   "id": "cb9c54e6",
   "metadata": {},
   "outputs": [],
   "source": [
    "#Creating target and features for Random Forest Regressor Model to be used on the Avg Table\n",
    "X = year_avg[['avgpop','avggdp']]\n",
    "y = year_avg['avgghg']"
   ]
  },
  {
   "cell_type": "code",
   "execution_count": 56,
   "id": "8887841f",
   "metadata": {},
   "outputs": [],
   "source": [
    "#Scaling the data\n",
    "X_train, X_test, y_train, y_test = train_test_split(X, y, random_state=1)\n",
    "scaler = StandardScaler().fit(X_train)\n",
    "X_train_scaled = scaler.transform(X_train)\n",
    "X_test_scaled = scaler.transform(X_test)"
   ]
  },
  {
   "cell_type": "code",
   "execution_count": 57,
   "id": "c8e41de5",
   "metadata": {},
   "outputs": [
    {
     "name": "stdout",
     "output_type": "stream",
     "text": [
      "Training Score: 0.963617877979699\n",
      "Testing Score: 0.6901170803933703\n"
     ]
    }
   ],
   "source": [
    "#Train and test data\n",
    "clf = RandomForestRegressor(random_state=1, n_estimators=50).fit(X_train, y_train)\n",
    "\n",
    "print(f'Training Score: {clf.score(X_train, y_train)}')\n",
    "print(f'Testing Score: {clf.score(X_test, y_test)}')"
   ]
  },
  {
   "cell_type": "code",
   "execution_count": 119,
   "id": "c7769992",
   "metadata": {},
   "outputs": [],
   "source": [
    "#Create function to predict ghg based on Population & GDP per sector & state\n",
    "def rfr_model(state,sector):\n",
    "    model_data = merged_table.loc[(merged_table['State']==state) & (merged_table['Sector']==sector)]\n",
    "    X = model_data[['Population','GDP']]\n",
    "    y = model_data['allghg']\n",
    "    X_train, X_test, y_train, y_test = train_test_split(X, y, random_state=1)\n",
    "    scaler = StandardScaler().fit(X_train)\n",
    "    X_train_scaled = scaler.transform(X_train)\n",
    "    X_test_scaled = scaler.transform(X_test)\n",
    "    clf = RandomForestRegressor(random_state=1, n_estimators=50).fit(X_train, y_train)\n",
    "    print(f'Training Score: {clf.score(X_train, y_train)}')\n",
    "    print(f'Testing Score: {clf.score(X_test, y_test)}')"
   ]
  },
  {
   "cell_type": "code",
   "execution_count": 121,
   "id": "3829fd8a",
   "metadata": {},
   "outputs": [
    {
     "name": "stdout",
     "output_type": "stream",
     "text": [
      "Training Score: 0.9493439960319076\n",
      "Testing Score: 0.6027889163029333\n"
     ]
    },
    {
     "name": "stderr",
     "output_type": "stream",
     "text": [
      "C:\\ProgramData\\Anaconda3\\envs\\mlenv\\lib\\site-packages\\sklearn\\utils\\validation.py:1692: FutureWarning: Feature names only support names that are all strings. Got feature names with dtypes: ['quoted_name']. An error will be raised in 1.2.\n",
      "  FutureWarning,\n",
      "C:\\ProgramData\\Anaconda3\\envs\\mlenv\\lib\\site-packages\\sklearn\\utils\\validation.py:1692: FutureWarning: Feature names only support names that are all strings. Got feature names with dtypes: ['quoted_name']. An error will be raised in 1.2.\n",
      "  FutureWarning,\n",
      "C:\\ProgramData\\Anaconda3\\envs\\mlenv\\lib\\site-packages\\sklearn\\utils\\validation.py:1692: FutureWarning: Feature names only support names that are all strings. Got feature names with dtypes: ['quoted_name']. An error will be raised in 1.2.\n",
      "  FutureWarning,\n",
      "C:\\ProgramData\\Anaconda3\\envs\\mlenv\\lib\\site-packages\\sklearn\\utils\\validation.py:1692: FutureWarning: Feature names only support names that are all strings. Got feature names with dtypes: ['quoted_name']. An error will be raised in 1.2.\n",
      "  FutureWarning,\n",
      "C:\\ProgramData\\Anaconda3\\envs\\mlenv\\lib\\site-packages\\sklearn\\utils\\validation.py:1692: FutureWarning: Feature names only support names that are all strings. Got feature names with dtypes: ['quoted_name']. An error will be raised in 1.2.\n",
      "  FutureWarning,\n",
      "C:\\ProgramData\\Anaconda3\\envs\\mlenv\\lib\\site-packages\\sklearn\\utils\\validation.py:1692: FutureWarning: Feature names only support names that are all strings. Got feature names with dtypes: ['quoted_name']. An error will be raised in 1.2.\n",
      "  FutureWarning,\n"
     ]
    }
   ],
   "source": [
    "rfr_model('NJ', 'Agriculture')"
   ]
  },
  {
   "cell_type": "code",
   "execution_count": null,
   "id": "4b523e1a",
   "metadata": {},
   "outputs": [],
   "source": []
  },
  {
   "cell_type": "code",
   "execution_count": null,
   "id": "47d0790f",
   "metadata": {},
   "outputs": [],
   "source": []
  }
 ],
 "metadata": {
  "kernelspec": {
   "display_name": "mlenv",
   "language": "python",
   "name": "mlenv"
  },
  "language_info": {
   "codemirror_mode": {
    "name": "ipython",
    "version": 3
   },
   "file_extension": ".py",
   "mimetype": "text/x-python",
   "name": "python",
   "nbconvert_exporter": "python",
   "pygments_lexer": "ipython3",
   "version": "3.7.13"
  }
 },
 "nbformat": 4,
 "nbformat_minor": 5
}
